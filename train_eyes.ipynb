{
 "cells": [
  {
   "cell_type": "code",
   "execution_count": null,
   "metadata": {},
   "outputs": [],
   "source": [
    "import numpy as np\n",
    "import os\n",
    "import cv2\n",
    "from PIL import Image"
   ]
  },
  {
   "cell_type": "code",
   "execution_count": null,
   "metadata": {},
   "outputs": [],
   "source": [
    "def preprocess_img(file):\n",
    "    img = Image.open(file)\n",
    "    img = img.resize((30,30))\n",
    "    img = np.array(img)\n",
    "    img = cv2.cvtColor(img, cv2.COLOR_BGR2GRAY)\n",
    "    img = img/255\n",
    "    return img"
   ]
  },
  {
   "cell_type": "code",
   "execution_count": null,
   "metadata": {},
   "outputs": [],
   "source": [
    "def create_imgs_arr(path):\n",
    "    array = []\n",
    "    for root,dirs,files in os.walk(path):\n",
    "        for file in files:\n",
    "            array.append(preprocess_img(path+file))\n",
    "    return array\n",
    "        "
   ]
  },
  {
   "cell_type": "code",
   "execution_count": null,
   "metadata": {},
   "outputs": [],
   "source": [
    "center = np.array([])\n",
    "extreme = np.array([])\n",
    "\n",
    "center = create_imgs_arr(\"./final_dataset/UnityEyes_Windows/cropped_center/\")\n",
    "extreme = create_imgs_arr(\"./final_dataset/UnityEyes_Windows/cropped_extreme/\")"
   ]
  },
  {
   "cell_type": "code",
   "execution_count": null,
   "metadata": {},
   "outputs": [],
   "source": [
    "center = np.array(center)\n",
    "extreme = np.array(extreme)"
   ]
  },
  {
   "cell_type": "code",
   "execution_count": null,
   "metadata": {},
   "outputs": [],
   "source": [
    "print(center.shape)\n",
    "print(extreme.shape)"
   ]
  },
  {
   "cell_type": "code",
   "execution_count": null,
   "metadata": {},
   "outputs": [],
   "source": [
    "trainx = np.vstack((center,extreme))\n",
    "zeros = np.zeros((2387,1))\n",
    "ones = np.ones((2168,1))\n",
    "labels = np.vstack((zeros,ones))\n"
   ]
  },
  {
   "cell_type": "code",
   "execution_count": null,
   "metadata": {},
   "outputs": [],
   "source": [
    "trainx = trainx.reshape(trainx.shape[0], 30, 30, 1)\n",
    "print(trainx.shape)\n",
    "print(labels.shape)"
   ]
  },
  {
   "cell_type": "code",
   "execution_count": null,
   "metadata": {},
   "outputs": [],
   "source": [
    "from sklearn.utils import shuffle\n",
    "trainx, labels = shuffle(trainx, labels)"
   ]
  },
  {
   "cell_type": "code",
   "execution_count": null,
   "metadata": {},
   "outputs": [],
   "source": [
    "import keras\n",
    "from keras.layers import *\n",
    "from keras.models import Sequential\n",
    "from keras import optimizers"
   ]
  },
  {
   "cell_type": "code",
   "execution_count": null,
   "metadata": {},
   "outputs": [],
   "source": [
    "model = Sequential()\n",
    "\n",
    "model.add(Conv2D(32, kernel_size=(3, 3), activation='relu', input_shape=(30,30,1)))\n",
    "\n",
    "model.add(Conv2D(64, kernel_size=(3, 3), activation='relu'))\n",
    "model.add(MaxPooling2D(pool_size=(2, 2)))\n",
    "\n",
    "model.add(Conv2D(128, kernel_size=(3, 3), activation='relu'))\n",
    "model.add(MaxPooling2D(pool_size=(2, 2)))\n",
    "\n",
    "model.add(Flatten())\n",
    "model.add(Dense(512, activation='relu'))\n",
    "model.add(Dense(64, activation='relu'))\n",
    "model.add(Dense(8, activation='relu'))\n",
    "\n",
    "model.add(Dense(1, activation='sigmoid'))"
   ]
  },
  {
   "cell_type": "code",
   "execution_count": null,
   "metadata": {},
   "outputs": [],
   "source": [
    "model.summary()"
   ]
  },
  {
   "cell_type": "code",
   "execution_count": null,
   "metadata": {},
   "outputs": [],
   "source": [
    "model.compile(loss='binary_crossentropy',optimizer='adam',metrics=['accuracy'])"
   ]
  },
  {
   "cell_type": "code",
   "execution_count": null,
   "metadata": {},
   "outputs": [],
   "source": [
    "hist = model.fit(trainx,labels,shuffle=True,batch_size=128,validation_split=0.1,epochs=30)"
   ]
  },
  {
   "cell_type": "code",
   "execution_count": null,
   "metadata": {},
   "outputs": [],
   "source": [
    "model.save(\"eye_model.h5\")"
   ]
  },
  {
   "cell_type": "code",
   "execution_count": null,
   "metadata": {},
   "outputs": [],
   "source": []
  },
  {
   "cell_type": "code",
   "execution_count": null,
   "metadata": {},
   "outputs": [],
   "source": []
  },
  {
   "cell_type": "code",
   "execution_count": null,
   "metadata": {},
   "outputs": [],
   "source": [
    "from __future__ import division\n",
    "import cv2\n",
    "from mtcnn.mtcnn import MTCNN\n",
    "from eye import Eye\n",
    "from calibration import Calibration\n",
    "import dlib\n",
    "import os\n",
    "import numpy as np\n",
    "import json\n",
    "import os\n",
    "from keras.models import load_model\n",
    "from PIL import Image"
   ]
  },
  {
   "cell_type": "code",
   "execution_count": null,
   "metadata": {},
   "outputs": [],
   "source": [
    "calibration = Calibration()\n",
    "_predictor = dlib.shape_predictor(\"trained_models/shape_predictor_68_face_landmarks.dat\")\n",
    "detector = MTCNN()\n",
    "model_eye = load_model('./trained_models/eye_model.h5')"
   ]
  },
  {
   "cell_type": "code",
   "execution_count": null,
   "metadata": {},
   "outputs": [],
   "source": [
    "def preprocess_img(img):\n",
    "    img = Image.fromarray(img)\n",
    "    img = img.resize((30,30))\n",
    "    img = np.array(img)\n",
    "    img = img/255\n",
    "    img = img.reshape(30, 30, 1)\n",
    "    img = np.expand_dims(img,axis=0)\n",
    "    return img"
   ]
  },
  {
   "cell_type": "code",
   "execution_count": null,
   "metadata": {},
   "outputs": [],
   "source": [
    "cam = cv2.VideoCapture(0)\n",
    "while True:\n",
    "    ret,frame = cam.read()\n",
    "    key_pressed = cv2.waitKey(1)&0xFF\n",
    "    if ret==False:\n",
    "        print(\"Something went wrong\")\n",
    "        continue\n",
    "    if key_pressed == ord('q'):\n",
    "        break\n",
    "    frame_g = cv2.cvtColor(frame, cv2.COLOR_BGR2GRAY)\n",
    "    frame = cv2.cvtColor(frame, cv2.COLOR_BGR2RGB)\n",
    "    faces = detector.detect_faces(frame)\n",
    "    for i in range(len(faces)) :\n",
    "    \n",
    "        bounding_box = faces[i]['box']\n",
    "        x1, y1, width, height = bounding_box\n",
    "#         face = [(x1,y1),(x1+width,y1+height)]\n",
    "        face = dlib.rectangle(x1,y1,x1+width,y1+height)\n",
    "        landmarks = _predictor(frame, face)\n",
    "        left_eye = []\n",
    "        right_eye = []\n",
    "        left_eye.append([landmarks.part(36).x,landmarks.part(36).y])\n",
    "        left_eye.append([landmarks.part(37).x,landmarks.part(37).y])\n",
    "        left_eye.append([landmarks.part(38).x,landmarks.part(38).y])\n",
    "        left_eye.append([landmarks.part(39).x,landmarks.part(39).y])\n",
    "        left_eye.append([landmarks.part(40).x,landmarks.part(40).y])\n",
    "        left_eye.append([landmarks.part(41).x,landmarks.part(41).y])\n",
    "        \n",
    "        right_eye.append([landmarks.part(42).x,landmarks.part(42).y])\n",
    "        right_eye.append([landmarks.part(43).x,landmarks.part(43).y])\n",
    "        right_eye.append([landmarks.part(44).x,landmarks.part(44).y])\n",
    "        right_eye.append([landmarks.part(45).x,landmarks.part(45).y])\n",
    "        right_eye.append([landmarks.part(46).x,landmarks.part(46).y])\n",
    "        right_eye.append([landmarks.part(47).x,landmarks.part(47).y])\n",
    "        \n",
    "        left_eye = np.array(left_eye)\n",
    "        right_eye = np.array(right_eye)\n",
    "        \n",
    "        rect_left = cv2.boundingRect(left_eye)\n",
    "        x,y,w,h = rect_left\n",
    "        txt_left = (x,y)\n",
    "        croped_left = frame_g[y:y+h, x:x+w].copy()\n",
    "        \n",
    "        left_eye = left_eye - left_eye.min(axis=0)\n",
    "        cv2.polylines(croped_left, np.array([left_eye], int), True, (0,0,0), 2)\n",
    "        mask_left = np.zeros(croped_left.shape[:2], np.uint8)\n",
    "        cv2.drawContours(mask_left, [left_eye], -1, (255, 0, 0), -1, cv2.LINE_AA)\n",
    "        dst_left = cv2.bitwise_and(croped_left, croped_left, mask=mask_left)\n",
    "#         cv2.imshow(\"left\",dst_left)\n",
    "        \n",
    "        rect_right = cv2.boundingRect(right_eye)\n",
    "        x,y,w,h = rect_right\n",
    "        txt_right = (x,y)\n",
    "        croped_right = frame_g[y:y+h, x:x+w].copy()\n",
    "        right_eye = right_eye - right_eye.min(axis=0)\n",
    "        cv2.polylines(croped_right, np.array([right_eye], int), True, (0,0,0), 2)\n",
    "        mask_right = np.zeros(croped_right.shape[:2], np.uint8)\n",
    "        cv2.drawContours(mask_right, [right_eye], -1, (255, 0, 0), -1, cv2.LINE_AA)\n",
    "        dst_right = cv2.bitwise_and(croped_right, croped_right, mask=mask_right)\n",
    "#         cv2.imshow(\"right\",dst_right)\n",
    "        left_eye_img = preprocess_img(dst_left)\n",
    "        right_eye_img = preprocess_img(dst_right)\n",
    "        \n",
    "        left_pred = model_eye.predict(left_eye_img)\n",
    "        right_pred = model_eye.predict(right_eye_img)\n",
    "        print(left_pred,right_pred)\n",
    "        if left_pred>0.5:\n",
    "            cv2.putText(frame,\"cheating\",txt_left,cv2.FONT_HERSHEY_SIMPLEX, 1,(255,0,0), 2, cv2.LINE_AA)\n",
    "        else:\n",
    "            cv2.putText(frame,\"ok\",txt_left,cv2.FONT_HERSHEY_SIMPLEX, 1,(255,0,0), 2, cv2.LINE_AA)\n",
    "        if right_pred>0.5:\n",
    "            cv2.putText(frame,\"cheating\",txt_right,cv2.FONT_HERSHEY_SIMPLEX, 1,(255,0,0), 2, cv2.LINE_AA)\n",
    "        else:\n",
    "            cv2.putText(frame,\"ok\",txt_right,cv2.FONT_HERSHEY_SIMPLEX, 1,(255,0,0), 2, cv2.LINE_AA)\n",
    "        cv2.imshow(\"img\", frame)\n",
    "        \n",
    "cam.release()\n",
    "cv2.destroyAllWindows()\n",
    "\n",
    "#         cv2.imwrite(dst_path+\"/\"+file.split('.')[0]+\".jpg\",dst)"
   ]
  },
  {
   "cell_type": "code",
   "execution_count": null,
   "metadata": {},
   "outputs": [],
   "source": []
  },
  {
   "cell_type": "code",
   "execution_count": null,
   "metadata": {},
   "outputs": [],
   "source": []
  },
  {
   "cell_type": "code",
   "execution_count": null,
   "metadata": {},
   "outputs": [],
   "source": []
  }
 ],
 "metadata": {
  "kernelspec": {
   "display_name": "ML_GPU",
   "language": "python",
   "name": "ml_gpu"
  },
  "language_info": {
   "codemirror_mode": {
    "name": "ipython",
    "version": 3
   },
   "file_extension": ".py",
   "mimetype": "text/x-python",
   "name": "python",
   "nbconvert_exporter": "python",
   "pygments_lexer": "ipython3",
   "version": "3.7.4"
  }
 },
 "nbformat": 4,
 "nbformat_minor": 2
}
