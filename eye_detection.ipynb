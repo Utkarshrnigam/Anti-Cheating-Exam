{
 "cells": [
  {
   "cell_type": "code",
   "execution_count": 1,
   "metadata": {},
   "outputs": [
    {
     "name": "stderr",
     "output_type": "stream",
     "text": [
      "Using TensorFlow backend.\n"
     ]
    }
   ],
   "source": [
    "from __future__ import division\n",
    "import cv2\n",
    "from mtcnn.mtcnn import MTCNN\n",
    "from eye import Eye\n",
    "from calibration import Calibration\n",
    "import dlib\n",
    "import os\n",
    "import numpy as np\n",
    "import json\n",
    "import os"
   ]
  },
  {
   "cell_type": "code",
   "execution_count": 2,
   "metadata": {},
   "outputs": [],
   "source": [
    "calibration = Calibration()\n",
    "_predictor = dlib.shape_predictor(\"trained_models/shape_predictor_68_face_landmarks.dat\")"
   ]
  },
  {
   "cell_type": "code",
   "execution_count": null,
   "metadata": {},
   "outputs": [],
   "source": [
    "cam = cv2.VideoCapture(0)\n",
    "while True:\n",
    "    ret,frame = cam.read()\n",
    "    key_pressed = cv2.waitKey(1)&0xFF\n",
    "    if ret==False:\n",
    "        print(\"Something went wrong\")\n",
    "        continue\n",
    "    if key_pressed == ord('q'):\n",
    "        break\n",
    "    frame_g = cv2.cvtColor(frame, cv2.COLOR_BGR2GRAY)\n",
    "    frame = cv2.cvtColor(frame, cv2.COLOR_BGR2RGB)\n",
    "    faces = detector.detect_faces(frame)\n",
    "    for i in range(len(faces)) :\n",
    "        \n",
    "        #eye gaze --------------------------------------------------------\n",
    "        \n",
    "        eye_left = None\n",
    "        eye_right = None\n",
    "        bounding_box = faces[i]['box']\n",
    "        x1, y1, width, height = bounding_box\n",
    "#         face = [(x1,y1),(x1+width,y1+height)]\n",
    "        face = dlib.rectangle(x1,y1,x1+width,y1+height)\n",
    "        landmarks = _predictor(frame, face)\n",
    "        left_eye = []\n",
    "        right_eye = []\n",
    "        left_eye.append([landmarks.part(36).x,landmarks.part(36).y])\n",
    "        left_eye.append([landmarks.part(37).x,landmarks.part(37).y])\n",
    "        left_eye.append([landmarks.part(38).x,landmarks.part(38).y])\n",
    "        left_eye.append([landmarks.part(39).x,landmarks.part(39).y])\n",
    "        left_eye.append([landmarks.part(40).x,landmarks.part(40).y])\n",
    "        left_eye.append([landmarks.part(41).x,landmarks.part(41).y])\n",
    "        \n",
    "        right_eye.append([landmarks.part(42).x,landmarks.part(42).y])\n",
    "        right_eye.append([landmarks.part(43).x,landmarks.part(43).y])\n",
    "        right_eye.append([landmarks.part(44).x,landmarks.part(44).y])\n",
    "        right_eye.append([landmarks.part(45).x,landmarks.part(45).y])\n",
    "        right_eye.append([landmarks.part(46).x,landmarks.part(46).y])\n",
    "        right_eye.append([landmarks.part(47).x,landmarks.part(47).y])\n",
    "        \n",
    "        left_eye = np.array(left_eye)\n",
    "        right_eye = np.array(right_eye)\n",
    "        \n",
    "        cv2.polylines(frame, [left_eye],True,(0,255,0),1)\n",
    "        cv2.polylines(frame, [right_eye],True,(0,255,0),1)\n",
    "        \n",
    "        cv2.rectangle(frame,(bounding_box[0], bounding_box[1]),(bounding_box[0]+bounding_box[2], bounding_box[1] + bounding_box[3]),(0,155,255),2)\n",
    "  \n",
    "    cv2.imshow(\"faces\",frame)\n",
    "\n",
    "\n",
    "cam.release()\n",
    "cv2.destroyAllWindows()"
   ]
  },
  {
   "cell_type": "code",
   "execution_count": 3,
   "metadata": {},
   "outputs": [],
   "source": [
    "def process_json_list(json_list,img):\n",
    "    ldmks = [eval(s) for s in json_list]\n",
    "    return np.array([(x, img.shape[0]-y, z) for (x,y,z) in ldmks])"
   ]
  },
  {
   "cell_type": "code",
   "execution_count": 4,
   "metadata": {},
   "outputs": [],
   "source": [
    "def crop_eyes(path,dst_path):\n",
    "    for root,dirs,files in os.walk(path):\n",
    "        for q,file in enumerate(files):\n",
    "            if file.endswith(\".json\"):\n",
    "                with open(path+'/'+file) as json_file: \n",
    "                    data = json.load(json_file)\n",
    "                img = cv2.imread(path+\"/\"+file.split('.')[0]+\".jpg\")\n",
    "                \n",
    "                \n",
    "                ldmks_interior_margin = process_json_list( data['interior_margin_2d'],img)\n",
    "                ldmks_interior_margin =  np.array([ldmks_interior_margin[:,:2]], int)[0]\n",
    "#                 print(ldmks_interior_margin)\n",
    "                rect = cv2.boundingRect(ldmks_interior_margin)\n",
    "                x,y,w,h = rect\n",
    "                croped = img[y:y+h, x:x+w].copy()\n",
    "                \n",
    "                ldmks_interior_margin = ldmks_interior_margin - ldmks_interior_margin.min(axis=0)\n",
    "#                 print(ldmks_interior_margin)\n",
    "                cv2.polylines(croped, np.array([ldmks_interior_margin], int), True, (0,0,0), 2)\n",
    "#                 cv2.imshow(\"croped\",croped)\n",
    "                mask = np.zeros(croped.shape[:2], np.uint8)\n",
    "                \n",
    "                cv2.drawContours(mask, [ldmks_interior_margin], -1, (255, 0, 0), -1, cv2.LINE_AA)\n",
    "#                 cv2.imshow(\"mask\",mask)\n",
    "                dst = cv2.bitwise_and(croped, croped, mask=mask)\n",
    "#                 cv2.imshow(\"sds\",dst)\n",
    "                \n",
    "                cv2.imwrite(dst_path+\"/\"+file.split('.')[0]+\".jpg\",dst)\n",
    "                if q%200==0:\n",
    "                    print(q)\n",
    "        "
   ]
  },
  {
   "cell_type": "code",
   "execution_count": 6,
   "metadata": {},
   "outputs": [],
   "source": [
    "crop_eyes(\"./final_dataset/UnityEyes_Windows/extreme\",\"./final_dataset/UnityEyes_Windows/cropped_extreme\")"
   ]
  },
  {
   "cell_type": "code",
   "execution_count": null,
   "metadata": {},
   "outputs": [],
   "source": [
    "eye"
   ]
  },
  {
   "cell_type": "code",
   "execution_count": null,
   "metadata": {},
   "outputs": [],
   "source": [
    "eye_array = []\n",
    "for i in eye:\n",
    "    i = i[1:-1]\n",
    "    i = i.split(',')\n",
    "    eye_array.append([round(float(i[0])),round(float(i[1]))])\n",
    "eye_array = np.array(eye_array)"
   ]
  },
  {
   "cell_type": "code",
   "execution_count": null,
   "metadata": {},
   "outputs": [],
   "source": [
    "eye_array"
   ]
  },
  {
   "cell_type": "code",
   "execution_count": null,
   "metadata": {},
   "outputs": [],
   "source": [
    "cv2.polylines(eye1, [eye_array],True,(0,255,0),1)\n",
    "cv2.imshow(\"eye\",eye1)\n",
    "cv2.waitKey()"
   ]
  },
  {
   "cell_type": "code",
   "execution_count": null,
   "metadata": {},
   "outputs": [],
   "source": [
    "import json\n",
    "img = cv2.imread(\"./final_dataset/UnityEyes_Windows/imgs/1.jpg\")\n",
    "with open('./final_dataset/UnityEyes_Windows/imgs/1.json') as json_file: \n",
    "    data = json.load(json_file)\n",
    "\n"
   ]
  },
  {
   "cell_type": "code",
   "execution_count": null,
   "metadata": {},
   "outputs": [],
   "source": [
    "def process_json_list(json_list):\n",
    "    ldmks = [eval(s) for s in json_list]\n",
    "    return np.array([(x, img.shape[0]-y, z) for (x,y,z) in ldmks])"
   ]
  },
  {
   "cell_type": "code",
   "execution_count": null,
   "metadata": {},
   "outputs": [],
   "source": [
    "ldmks_interior_margin = process_json_list( data['interior_margin_2d'])"
   ]
  },
  {
   "cell_type": "code",
   "execution_count": null,
   "metadata": {},
   "outputs": [],
   "source": [
    "cv2.polylines(img, np.array([ldmks_interior_margin[:,:2]], int), True, (0,0,0), 2)\n"
   ]
  },
  {
   "cell_type": "code",
   "execution_count": null,
   "metadata": {},
   "outputs": [],
   "source": [
    "cv2.imshow(\"eye\",img)\n",
    "cv2.waitKey()"
   ]
  },
  {
   "cell_type": "code",
   "execution_count": null,
   "metadata": {},
   "outputs": [],
   "source": []
  }
 ],
 "metadata": {
  "kernelspec": {
   "display_name": "ML_GPU",
   "language": "python",
   "name": "ml_gpu"
  },
  "language_info": {
   "codemirror_mode": {
    "name": "ipython",
    "version": 3
   },
   "file_extension": ".py",
   "mimetype": "text/x-python",
   "name": "python",
   "nbconvert_exporter": "python",
   "pygments_lexer": "ipython3",
   "version": "3.7.4"
  }
 },
 "nbformat": 4,
 "nbformat_minor": 2
}
